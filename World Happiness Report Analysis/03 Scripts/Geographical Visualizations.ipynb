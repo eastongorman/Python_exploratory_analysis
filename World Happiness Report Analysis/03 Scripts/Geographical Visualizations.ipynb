{
 "cells": [
  {
   "cell_type": "markdown",
   "id": "1f2da0b1",
   "metadata": {},
   "source": [
    "## This script contains:\n",
    "#### 01. Import libraries\n",
    "#### 02. Import data\n",
    "#### 03. Data wrangling\n",
    "#### 04. Consistency checks\n",
    "#### 05. Plotting a choropleth\n",
    "#### 06. Results"
   ]
  },
  {
   "cell_type": "markdown",
   "id": "702dd543",
   "metadata": {},
   "source": [
    "# 01. Import libraries"
   ]
  },
  {
   "cell_type": "code",
   "execution_count": null,
   "id": "96a9751f",
   "metadata": {},
   "outputs": [],
   "source": [
    "import pandas as pd\n",
    "import numpy as np\n",
    "import seaborn as sns\n",
    "import matplotlib\n",
    "import os\n",
    "import folium\n",
    "import json\n",
    "import matplotlib.pyplot as plt"
   ]
  },
  {
   "cell_type": "code",
   "execution_count": null,
   "id": "63002478",
   "metadata": {},
   "outputs": [],
   "source": [
    "# This command propts matplotlib visuals to appear in the notebook \n",
    "\n",
    "%matplotlib inline"
   ]
  },
  {
   "cell_type": "markdown",
   "id": "736438ed",
   "metadata": {},
   "source": [
    "# 02. Import data"
   ]
  },
  {
   "cell_type": "code",
   "execution_count": null,
   "id": "328e7f7c",
   "metadata": {},
   "outputs": [],
   "source": [
    "# Import \".json\" file for the world countries\n",
    "\n",
    "country_geo = r'C:\\Users\\ejgor\\OneDrive\\Data Analytics\\Data Immersion\\Achievement 6 - Advanced Analytics & Dashboard Design\\World Happiness Report Analysis\\02 Data\\Original Data\\countries.geojson'"
   ]
  },
  {
   "cell_type": "code",
   "execution_count": null,
   "id": "6a1ad70b",
   "metadata": {},
   "outputs": [],
   "source": [
    "import json\n",
    "\n",
    "f = open(r'C:\\Users\\ejgor\\OneDrive\\Data Analytics\\Data Immersion\\Achievement 6 - Advanced Analytics & Dashboard Design\\World Happiness Report Analysis\\02 Data\\Original Data\\countries.geojson')\n",
    "\n",
    "# returns JSON object as a dictionary\n",
    "data = json.load(f)\n",
    "\n",
    "# Iterating through the json list\n",
    "for feature in data['features']:\n",
    "    properties = feature['properties']\n",
    "    print(properties)"
   ]
  },
  {
   "cell_type": "code",
   "execution_count": null,
   "id": "d9995623",
   "metadata": {},
   "outputs": [],
   "source": [
    "# create path to folder\n",
    "\n",
    "path = r'C:\\Users\\ejgor\\OneDrive\\Data Analytics\\Data Immersion\\Achievement 6 - Advanced Analytics & Dashboard Design\\World Happiness Report Analysis'"
   ]
  },
  {
   "cell_type": "code",
   "execution_count": null,
   "id": "5bd305f9",
   "metadata": {},
   "outputs": [],
   "source": [
    "# import cleaned dataframe\n",
    "\n",
    "df = pd.read_csv(os.path.join(path, '02 Data', 'Prepared Data', 'WHR_2015-2019.csv'), index_col = False)"
   ]
  },
  {
   "cell_type": "code",
   "execution_count": null,
   "id": "badc5dfd",
   "metadata": {},
   "outputs": [],
   "source": [
    "# check if df was imported correctly\n",
    "\n",
    "df.shape"
   ]
  },
  {
   "cell_type": "code",
   "execution_count": null,
   "id": "246aa545",
   "metadata": {},
   "outputs": [],
   "source": [
    "df.info()"
   ]
  },
  {
   "cell_type": "code",
   "execution_count": null,
   "id": "fcc7638c",
   "metadata": {},
   "outputs": [],
   "source": [
    "df.head()"
   ]
  },
  {
   "cell_type": "markdown",
   "id": "5bcd072e",
   "metadata": {},
   "source": [
    "# 03. Data wrangling"
   ]
  },
  {
   "cell_type": "code",
   "execution_count": null,
   "id": "23032993",
   "metadata": {},
   "outputs": [],
   "source": [
    "# change country names to match JSON\n",
    "\n",
    "df2 = df.replace('United States', 'United States of America')\n",
    "df3 = df2.replace('Tanzania', 'United Republic of Tanzania')\n",
    "df4 = df3.replace('Congo (Brazzaville)', 'Republic of Congo')\n",
    "df5 = df4.replace('Congo (Kinshasa)', 'Democratic Republic of the Congo')"
   ]
  },
  {
   "cell_type": "code",
   "execution_count": null,
   "id": "5ed1481c",
   "metadata": {},
   "outputs": [],
   "source": [
    "# select only the necessary columns and put them in a list called columns\n",
    "\n",
    "columns = ['Country', 'Rank', 'Score', 'Support', 'GDP', 'Health', 'Freedom', 'Generosity', 'Corruption', 'Year']"
   ]
  },
  {
   "cell_type": "code",
   "execution_count": null,
   "id": "ab40c707",
   "metadata": {},
   "outputs": [],
   "source": [
    "# create a subset\n",
    "\n",
    "country_rec = df5[columns]"
   ]
  },
  {
   "cell_type": "code",
   "execution_count": null,
   "id": "ab38db9a",
   "metadata": {},
   "outputs": [],
   "source": [
    "country_rec.head()"
   ]
  },
  {
   "cell_type": "markdown",
   "id": "b680d288",
   "metadata": {},
   "source": [
    "# 04. Consistency checks"
   ]
  },
  {
   "cell_type": "code",
   "execution_count": null,
   "id": "4a40891d",
   "metadata": {},
   "outputs": [],
   "source": [
    "# check for missing values\n",
    "\n",
    "country_rec.isnull().sum()"
   ]
  },
  {
   "cell_type": "markdown",
   "id": "b8651c68",
   "metadata": {},
   "source": [
    "#### No missing values"
   ]
  },
  {
   "cell_type": "code",
   "execution_count": null,
   "id": "02f6aee5",
   "metadata": {},
   "outputs": [],
   "source": [
    "# check for duplicates\n",
    "\n",
    "dups = country_rec.duplicated()"
   ]
  },
  {
   "cell_type": "code",
   "execution_count": null,
   "id": "fbdcefb8",
   "metadata": {},
   "outputs": [],
   "source": [
    "dups.shape"
   ]
  },
  {
   "cell_type": "markdown",
   "id": "b9a6a10b",
   "metadata": {},
   "source": [
    "#### No duplicate values"
   ]
  },
  {
   "cell_type": "code",
   "execution_count": null,
   "id": "39582fac",
   "metadata": {},
   "outputs": [],
   "source": [
    "# extreme values check\n",
    "\n",
    "sns.histplot(country_rec['Score'], bins=25, kde = True)"
   ]
  },
  {
   "cell_type": "markdown",
   "id": "b5016322",
   "metadata": {},
   "source": [
    "#### Normal distribution"
   ]
  },
  {
   "cell_type": "code",
   "execution_count": null,
   "id": "8b084f6d",
   "metadata": {},
   "outputs": [],
   "source": [
    "# extreme values check\n",
    "\n",
    "sns.histplot(country_rec['Support'], bins=25, kde = True)"
   ]
  },
  {
   "cell_type": "code",
   "execution_count": null,
   "id": "24edf790",
   "metadata": {},
   "outputs": [],
   "source": [
    "# extreme values check\n",
    "\n",
    "sns.histplot(country_rec['GDP'], bins=25, kde = True)"
   ]
  },
  {
   "cell_type": "markdown",
   "id": "b4a39bb1",
   "metadata": {},
   "source": [
    "#### Left skewed distribution"
   ]
  },
  {
   "cell_type": "code",
   "execution_count": null,
   "id": "5eb3a13a",
   "metadata": {},
   "outputs": [],
   "source": [
    "# extreme values check\n",
    "\n",
    "sns.histplot(country_rec['Health'], bins=25, kde = True)"
   ]
  },
  {
   "cell_type": "code",
   "execution_count": null,
   "id": "a754bdc4",
   "metadata": {},
   "outputs": [],
   "source": [
    "# extreme values check\n",
    "\n",
    "sns.histplot(country_rec['Freedom'], bins=25, kde = True)"
   ]
  },
  {
   "cell_type": "markdown",
   "id": "01644296",
   "metadata": {},
   "source": [
    "#### Left skewed distribution"
   ]
  },
  {
   "cell_type": "code",
   "execution_count": null,
   "id": "43339871",
   "metadata": {},
   "outputs": [],
   "source": [
    "# extreme values check\n",
    "\n",
    "sns.histplot(country_rec['Generosity'], bins=25, kde = True)"
   ]
  },
  {
   "cell_type": "markdown",
   "id": "afd5d546",
   "metadata": {},
   "source": [
    "#### Right skewed distribution"
   ]
  },
  {
   "cell_type": "code",
   "execution_count": null,
   "id": "d003f52c",
   "metadata": {},
   "outputs": [],
   "source": [
    "# extreme values check\n",
    "\n",
    "sns.histplot(country_rec['Corruption'], bins=25, kde = True)"
   ]
  },
  {
   "cell_type": "markdown",
   "id": "3e82579e",
   "metadata": {},
   "source": [
    "#### Right skewed distribution\n",
    "#### No extreme values for each variable"
   ]
  },
  {
   "cell_type": "markdown",
   "id": "19a597f9",
   "metadata": {},
   "source": [
    "# 05. Plotting a choropleth"
   ]
  },
  {
   "cell_type": "markdown",
   "id": "b028c848",
   "metadata": {},
   "source": [
    "## Country and Happiness Score"
   ]
  },
  {
   "cell_type": "code",
   "execution_count": null,
   "id": "42f0bed8",
   "metadata": {},
   "outputs": [],
   "source": [
    "# subset the data for the year 2015\n",
    "\n",
    "df_2015 = country_rec[country_rec[\"Year\"] == 2015]"
   ]
  },
  {
   "cell_type": "code",
   "execution_count": null,
   "id": "b3304367",
   "metadata": {},
   "outputs": [],
   "source": [
    "df_2015.head()"
   ]
  },
  {
   "cell_type": "code",
   "execution_count": null,
   "id": "bbcef18c",
   "metadata": {},
   "outputs": [],
   "source": [
    "for feature in data['features']:\n",
    "    properties = feature['properties']\n",
    "    print(properties)"
   ]
  },
  {
   "cell_type": "code",
   "execution_count": null,
   "id": "aae45f5a",
   "metadata": {},
   "outputs": [],
   "source": [
    "# set up a folium map at a high-level zoom\n",
    "\n",
    "map1 = folium.Map(location=[100, 0], zoom_start=1.5)\n",
    "\n",
    "# choropleth maps bind Pandas Data Frames and json geometries. This allows us to quickly visualize data combinations\n",
    "\n",
    "folium.Choropleth(\n",
    "    geo_data = country_geo, \n",
    "    data = df_2015,\n",
    "    columns = ['Country', 'Score'],\n",
    "    key_on = 'feature.properties.ADMIN',\n",
    "    fill_color = 'YlOrBr',\n",
    "    fill_opacity = 0.6,\n",
    "    line_opacity = 0.1,\n",
    "    legend_name = \"Happiness Score\",\n",
    "    highlight = True,\n",
    "    nan_fill_color = 'gray',\n",
    "    reset = True\n",
    ").add_to(map1)\n",
    "\n",
    "folium.LayerControl().add_to(map1)\n",
    "\n",
    "map1"
   ]
  },
  {
   "cell_type": "markdown",
   "id": "d614732e",
   "metadata": {},
   "source": [
    "#### In 2015, North America, Australia, parts of South America, and parts of Europe have the highest happiness score. South Asia and Africa have the lowest happiness score."
   ]
  },
  {
   "cell_type": "code",
   "execution_count": null,
   "id": "e4188bb0",
   "metadata": {},
   "outputs": [],
   "source": [
    "map1.save('plot_data1.html')"
   ]
  },
  {
   "cell_type": "code",
   "execution_count": null,
   "id": "f2faa2aa",
   "metadata": {},
   "outputs": [],
   "source": [
    "# subset the data for the year 2016\n",
    "\n",
    "df_2016 = country_rec[country_rec[\"Year\"] == 2016]"
   ]
  },
  {
   "cell_type": "code",
   "execution_count": null,
   "id": "82529594",
   "metadata": {},
   "outputs": [],
   "source": [
    "df_2016.head()"
   ]
  },
  {
   "cell_type": "code",
   "execution_count": null,
   "id": "d788e35b",
   "metadata": {
    "scrolled": false
   },
   "outputs": [],
   "source": [
    "# set up a folium map at a high-level zoom\n",
    "\n",
    "map2 = folium.Map(location=[100, 0], zoom_start=1.5)\n",
    "\n",
    "# choropleth maps bind Pandas Data Frames and json geometries. This allows us to quickly visualize data combinations\n",
    "\n",
    "folium.Choropleth(\n",
    "    geo_data = country_geo, \n",
    "    data = df_2016,\n",
    "    columns = ['Country', 'Score'],\n",
    "    key_on = 'feature.properties.ADMIN',\n",
    "    fill_color = 'YlOrBr',\n",
    "    fill_opacity = 0.6,\n",
    "    line_opacity = 0.1,\n",
    "    legend_name = \"Happiness Score\",\n",
    "    highlight = True,\n",
    "    nan_fill_color = 'gray',\n",
    "    reset = True\n",
    ").add_to(map2)\n",
    "\n",
    "folium.LayerControl().add_to(map2)\n",
    "\n",
    "map2"
   ]
  },
  {
   "cell_type": "markdown",
   "id": "9ba6942d",
   "metadata": {},
   "source": [
    "#### In 2016, the same continents (countries) have the highest happiness score, but parts of southern Asia got a better happiness score."
   ]
  },
  {
   "cell_type": "code",
   "execution_count": null,
   "id": "a1a24074",
   "metadata": {},
   "outputs": [],
   "source": [
    "map2.save('plot_data2.html')"
   ]
  },
  {
   "cell_type": "code",
   "execution_count": null,
   "id": "1bd14bda",
   "metadata": {},
   "outputs": [],
   "source": [
    "# subset the data for the year 2017\n",
    "\n",
    "df_2017 = country_rec[country_rec[\"Year\"] == 2017]"
   ]
  },
  {
   "cell_type": "code",
   "execution_count": null,
   "id": "dc5b4457",
   "metadata": {},
   "outputs": [],
   "source": [
    "df_2017.head()"
   ]
  },
  {
   "cell_type": "code",
   "execution_count": null,
   "id": "a529fcdb",
   "metadata": {},
   "outputs": [],
   "source": [
    "# set up a folium map at a high-level zoom\n",
    "\n",
    "map3 = folium.Map(location=[100, 0], zoom_start=1.5)\n",
    "\n",
    "# choropleth maps bind Pandas Data Frames and json geometries. This allows us to quickly visualize data combinations\n",
    "\n",
    "folium.Choropleth(\n",
    "    geo_data = country_geo, \n",
    "    data = df_2017,\n",
    "    columns = ['Country', 'Score'],\n",
    "    key_on = 'feature.properties.ADMIN',\n",
    "    fill_color = 'YlOrBr',\n",
    "    fill_opacity = 0.6,\n",
    "    line_opacity = 0.1,\n",
    "    legend_name = \"Happiness Score\",\n",
    "    highlight = True,\n",
    "    nan_fill_color = 'gray',\n",
    "    reset = True\n",
    ").add_to(map3)\n",
    "\n",
    "folium.LayerControl().add_to(map3)\n",
    "\n",
    "map3"
   ]
  },
  {
   "cell_type": "markdown",
   "id": "ba6dd05a",
   "metadata": {},
   "source": [
    "#### In 2017, the same continents (countries) have the highest happiness score. Asia's happiness score went up, but Brazil and Mexico's happiness score dropped."
   ]
  },
  {
   "cell_type": "code",
   "execution_count": null,
   "id": "7679e759",
   "metadata": {},
   "outputs": [],
   "source": [
    "map3.save('plot_data3.html')"
   ]
  },
  {
   "cell_type": "code",
   "execution_count": null,
   "id": "287a07cb",
   "metadata": {},
   "outputs": [],
   "source": [
    "# subset the data for the year 2018\n",
    "\n",
    "df_2018 = country_rec[country_rec[\"Year\"] == 2018]"
   ]
  },
  {
   "cell_type": "code",
   "execution_count": null,
   "id": "97967cbf",
   "metadata": {},
   "outputs": [],
   "source": [
    "df_2018.head()"
   ]
  },
  {
   "cell_type": "code",
   "execution_count": null,
   "id": "d1b7cdf3",
   "metadata": {},
   "outputs": [],
   "source": [
    "# set up a folium map at a high-level zoom\n",
    "\n",
    "map4 = folium.Map(location=[100, 0], zoom_start=1.5)\n",
    "\n",
    "# choropleth maps bind Pandas Data Frames and json geometries. This allows us to quickly visualize data combinations\n",
    "\n",
    "folium.Choropleth(\n",
    "    geo_data = country_geo, \n",
    "    data = df_2018,\n",
    "    columns = ['Country', 'Score'],\n",
    "    key_on = 'feature.properties.ADMIN',\n",
    "    fill_color = 'YlOrBr',\n",
    "    fill_opacity = 0.6,\n",
    "    line_opacity = 0.1,\n",
    "    legend_name = \"Happiness Score\",\n",
    "    highlight = True,\n",
    "    nan_fill_color = 'gray',\n",
    "    reset = True\n",
    ").add_to(map4)\n",
    "\n",
    "folium.LayerControl().add_to(map4)\n",
    "\n",
    "map4"
   ]
  },
  {
   "cell_type": "markdown",
   "id": "a66c3e15",
   "metadata": {},
   "source": [
    "#### In 2018, the same continents (countries) have the highest happiness score, but Asia dropped in happiness score."
   ]
  },
  {
   "cell_type": "code",
   "execution_count": null,
   "id": "5863860e",
   "metadata": {},
   "outputs": [],
   "source": [
    "map4.save('plot_data4.html')"
   ]
  },
  {
   "cell_type": "code",
   "execution_count": null,
   "id": "06a91ed9",
   "metadata": {},
   "outputs": [],
   "source": [
    "# subset the data for the year 2019\n",
    "\n",
    "df_2019 = country_rec[country_rec[\"Year\"] == 2019]"
   ]
  },
  {
   "cell_type": "code",
   "execution_count": null,
   "id": "2609066e",
   "metadata": {},
   "outputs": [],
   "source": [
    "df_2019.head()"
   ]
  },
  {
   "cell_type": "code",
   "execution_count": null,
   "id": "773f8615",
   "metadata": {},
   "outputs": [],
   "source": [
    "# set up a folium map at a high-level zoom\n",
    "\n",
    "map5 = folium.Map(location=[100, 0], zoom_start=1.5)\n",
    "\n",
    "# choropleth maps bind Pandas Data Frames and json geometries. This allows us to quickly visualize data combinations\n",
    "\n",
    "folium.Choropleth(\n",
    "    geo_data = country_geo, \n",
    "    data = df_2019,\n",
    "    columns = ['Country', 'Score'],\n",
    "    key_on = 'feature.properties.ADMIN',\n",
    "    fill_color = 'YlOrBr',\n",
    "    fill_opacity = 0.6,\n",
    "    line_opacity = 0.1,\n",
    "    legend_name = \"Happiness Score\",\n",
    "    highlight = True,\n",
    "    nan_fill_color = 'gray',\n",
    "    reset = True\n",
    ").add_to(map5)\n",
    "\n",
    "folium.LayerControl().add_to(map5)\n",
    "\n",
    "map5"
   ]
  },
  {
   "cell_type": "markdown",
   "id": "edcee391",
   "metadata": {},
   "source": [
    "#### In 2019, the same continents (countries) have the highest happiness score, but the US dropped in happiness score."
   ]
  },
  {
   "cell_type": "code",
   "execution_count": null,
   "id": "bd013970",
   "metadata": {},
   "outputs": [],
   "source": [
    "map5.save('plot_data5.html')"
   ]
  },
  {
   "cell_type": "markdown",
   "id": "a6ccd2e0",
   "metadata": {},
   "source": [
    "## Country and GDP"
   ]
  },
  {
   "cell_type": "code",
   "execution_count": null,
   "id": "58ccdb57",
   "metadata": {},
   "outputs": [],
   "source": [
    "# set up a folium map at a high-level zoom\n",
    "\n",
    "map6 = folium.Map(location=[100, 0], zoom_start=1.5)\n",
    "\n",
    "# choropleth maps bind Pandas Data Frames and json geometries. This allows us to quickly visualize data combinations\n",
    "\n",
    "folium.Choropleth(\n",
    "    geo_data = country_geo, \n",
    "    data = df_2015,\n",
    "    columns = ['Country', 'GDP'],\n",
    "    key_on = 'feature.properties.ADMIN',\n",
    "    fill_color = 'YlOrBr',\n",
    "    fill_opacity = 0.6,\n",
    "    line_opacity = 0.1,\n",
    "    legend_name = \"Happiness Score\",\n",
    "    highlight = True,\n",
    "    nan_fill_color = 'gray',\n",
    "    reset = True\n",
    ").add_to(map6)\n",
    "\n",
    "folium.LayerControl().add_to(map6)\n",
    "\n",
    "map6"
   ]
  },
  {
   "cell_type": "markdown",
   "id": "1d7653e5",
   "metadata": {},
   "source": [
    "#### In 2015, the countries with high GDP were Norway followed by the US, Canada, Australia, and some of Europe and Asia."
   ]
  },
  {
   "cell_type": "code",
   "execution_count": null,
   "id": "985f5fc4",
   "metadata": {},
   "outputs": [],
   "source": [
    "map6.save('plot_data6.html')"
   ]
  },
  {
   "cell_type": "code",
   "execution_count": null,
   "id": "ea82aadd",
   "metadata": {},
   "outputs": [],
   "source": [
    "# set up a folium map at a high-level zoom\n",
    "\n",
    "map7 = folium.Map(location=[100, 0], zoom_start=1.5)\n",
    "\n",
    "# choropleth maps bind Pandas Data Frames and json geometries. This allows us to quickly visualize data combinations\n",
    "\n",
    "folium.Choropleth(\n",
    "    geo_data = country_geo, \n",
    "    data = df_2016,\n",
    "    columns = ['Country', 'GDP'],\n",
    "    key_on = 'feature.properties.ADMIN',\n",
    "    fill_color = 'YlOrBr',\n",
    "    fill_opacity = 0.6,\n",
    "    line_opacity = 0.1,\n",
    "    legend_name = \"Happiness Score\",\n",
    "    highlight = True,\n",
    "    nan_fill_color = 'gray',\n",
    "    reset = True\n",
    ").add_to(map7)\n",
    "\n",
    "folium.LayerControl().add_to(map7)\n",
    "\n",
    "map7"
   ]
  },
  {
   "cell_type": "markdown",
   "id": "ffdbdbbe",
   "metadata": {},
   "source": [
    "#### In 2016, the countries with high GDP were Norway followed by the US, Canada, Australia, and some of Europe and Asia."
   ]
  },
  {
   "cell_type": "code",
   "execution_count": null,
   "id": "32e09447",
   "metadata": {},
   "outputs": [],
   "source": [
    "map7.save('plot_data7.html')"
   ]
  },
  {
   "cell_type": "code",
   "execution_count": null,
   "id": "ac602746",
   "metadata": {},
   "outputs": [],
   "source": [
    "# set up a folium map at a high-level zoom\n",
    "\n",
    "map8 = folium.Map(location=[100, 0], zoom_start=1.5)\n",
    "\n",
    "# choropleth maps bind Pandas Data Frames and json geometries. This allows us to quickly visualize data combinations\n",
    "\n",
    "folium.Choropleth(\n",
    "    geo_data = country_geo, \n",
    "    data = df_2017,\n",
    "    columns = ['Country', 'GDP'],\n",
    "    key_on = 'feature.properties.ADMIN',\n",
    "    fill_color = 'YlOrBr',\n",
    "    fill_opacity = 0.6,\n",
    "    line_opacity = 0.1,\n",
    "    legend_name = \"Happiness Score\",\n",
    "    highlight = True,\n",
    "    nan_fill_color = 'gray',\n",
    "    reset = True\n",
    ").add_to(map8)\n",
    "\n",
    "folium.LayerControl().add_to(map8)\n",
    "\n",
    "map8"
   ]
  },
  {
   "cell_type": "markdown",
   "id": "55dd7021",
   "metadata": {},
   "source": [
    "#### In 2017, Mexico's GDP slighlty increased."
   ]
  },
  {
   "cell_type": "code",
   "execution_count": null,
   "id": "ca9a4ffd",
   "metadata": {},
   "outputs": [],
   "source": [
    "map8.save('plot_data8.html')"
   ]
  },
  {
   "cell_type": "code",
   "execution_count": null,
   "id": "07880d37",
   "metadata": {},
   "outputs": [],
   "source": [
    "# set up a folium map at a high-level zoom\n",
    "\n",
    "map9 = folium.Map(location=[100, 0], zoom_start=1.5)\n",
    "\n",
    "# choropleth maps bind Pandas Data Frames and json geometries. This allows us to quickly visualize data combinations\n",
    "\n",
    "folium.Choropleth(\n",
    "    geo_data = country_geo, \n",
    "    data = df_2018,\n",
    "    columns = ['Country', 'GDP'],\n",
    "    key_on = 'feature.properties.ADMIN',\n",
    "    fill_color = 'YlOrBr',\n",
    "    fill_opacity = 0.6,\n",
    "    line_opacity = 0.1,\n",
    "    legend_name = \"Happiness Score\",\n",
    "    highlight = True,\n",
    "    nan_fill_color = 'gray',\n",
    "    reset = True\n",
    ").add_to(map9)\n",
    "\n",
    "folium.LayerControl().add_to(map9)\n",
    "\n",
    "map9"
   ]
  },
  {
   "cell_type": "markdown",
   "id": "500af720",
   "metadata": {},
   "source": [
    "#### In 2018, the US, Saudi Arabia, and Norway went up in GDP."
   ]
  },
  {
   "cell_type": "code",
   "execution_count": null,
   "id": "b477f5e8",
   "metadata": {},
   "outputs": [],
   "source": [
    "map9.save('plot_data9.html')"
   ]
  },
  {
   "cell_type": "code",
   "execution_count": null,
   "id": "c21e4f20",
   "metadata": {},
   "outputs": [],
   "source": [
    "# set up a folium map at a high-level zoom\n",
    "\n",
    "map10 = folium.Map(location=[100, 0], zoom_start=1.5)\n",
    "\n",
    "# choropleth maps bind Pandas Data Frames and json geometries. This allows us to quickly visualize data combinations\n",
    "\n",
    "folium.Choropleth(\n",
    "    geo_data = country_geo, \n",
    "    data = df_2019,\n",
    "    columns = ['Country', 'GDP'],\n",
    "    key_on = 'feature.properties.ADMIN',\n",
    "    fill_color = 'YlOrBr',\n",
    "    fill_opacity = 0.6,\n",
    "    line_opacity = 0.1,\n",
    "    legend_name = \"Happiness Score\",\n",
    "    highlight = True,\n",
    "    nan_fill_color = 'gray',\n",
    "    reset = True\n",
    ").add_to(map10)\n",
    "\n",
    "folium.LayerControl().add_to(map10)\n",
    "\n",
    "map10"
   ]
  },
  {
   "cell_type": "markdown",
   "id": "cc8d04b4",
   "metadata": {},
   "source": [
    "#### In 2019, the US and Norway go up in GDP."
   ]
  },
  {
   "cell_type": "code",
   "execution_count": null,
   "id": "5720eebf",
   "metadata": {},
   "outputs": [],
   "source": [
    "map10.save('plot_data10.html')"
   ]
  },
  {
   "cell_type": "markdown",
   "id": "1273cc5a",
   "metadata": {},
   "source": [
    "# 06. Results"
   ]
  },
  {
   "cell_type": "markdown",
   "id": "8b14130e",
   "metadata": {},
   "source": [
    "#### Does the analysis answer any of your existing research questions?\n",
    "    How does the distribution of Happiness Score vary across different continents or regions? Countries with the highest happiness score were usually Canada, the US, Australia, New Zealand, Norway, Sweden, Finland, Germany, United Kigdom, Ireland, and the Netherlands. Countries with the lowest score are in some African and South Asian countries. Over the years, until 2019, the US dropped in happiness score.\n",
    "    \n",
    "    How does the distribution of GDP vary across different continents or regions? From 2015-2017, we see the country with the highest GDP was Norway followed by the US, Canada, Australia, and some of Europe and Asia. In 2018-2019, the US and Norway are highest in GDP.\n",
    "    \n",
    "    How does the distribution of social support vary across different continents or regions? From 2015-2019, countries with the highest support are Canada, the US, South America, Australia, Europe and Asia.\n",
    "    \n",
    "    How does the distribution of high life expectancy (health) vary across different continents or regions? In 2015, countries with high life expectancy are Canada, the US, Australia, and some of Europe. In 2019, the US life expectancy drops.\n",
    "\n",
    "#### Does the analysis lead you to any new research questions?\n",
    "    How does GDP, Support, and life expectancy (Health) vary over the years for these countries?"
   ]
  },
  {
   "cell_type": "code",
   "execution_count": null,
   "id": "ded1fece",
   "metadata": {},
   "outputs": [],
   "source": []
  }
 ],
 "metadata": {
  "kernelspec": {
   "display_name": "Python 3 (ipykernel)",
   "language": "python",
   "name": "python3"
  },
  "language_info": {
   "codemirror_mode": {
    "name": "ipython",
    "version": 3
   },
   "file_extension": ".py",
   "mimetype": "text/x-python",
   "name": "python",
   "nbconvert_exporter": "python",
   "pygments_lexer": "ipython3",
   "version": "3.10.9"
  }
 },
 "nbformat": 4,
 "nbformat_minor": 5
}
